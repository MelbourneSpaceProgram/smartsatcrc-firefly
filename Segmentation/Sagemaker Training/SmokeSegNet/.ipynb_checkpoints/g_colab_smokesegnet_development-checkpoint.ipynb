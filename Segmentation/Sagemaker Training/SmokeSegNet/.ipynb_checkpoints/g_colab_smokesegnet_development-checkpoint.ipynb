{
  "nbformat": 4,
  "nbformat_minor": 0,
  "metadata": {
    "colab": {
      "name": "smokesegnet_development.ipynb",
      "provenance": [],
      "toc_visible": true
    },
    "kernelspec": {
      "name": "python3",
      "display_name": "Python 3"
    },
    "accelerator": "GPU",
    "widgets": {
      "application/vnd.jupyter.widget-state+json": {
        "f75029e72f3e492e9fbe9ca300b4271b": {
          "model_module": "@jupyter-widgets/controls",
          "model_name": "HBoxModel",
          "state": {
            "_view_name": "HBoxView",
            "_dom_classes": [],
            "_model_name": "HBoxModel",
            "_view_module": "@jupyter-widgets/controls",
            "_model_module_version": "1.5.0",
            "_view_count": null,
            "_view_module_version": "1.5.0",
            "box_style": "",
            "layout": "IPY_MODEL_10cd5a1392804768b2ba73a7a16e0049",
            "_model_module": "@jupyter-widgets/controls",
            "children": [
              "IPY_MODEL_bef3fb947d614a42a1e54b59b847a335",
              "IPY_MODEL_c5d07e156cf842889e890dc8a3409c03"
            ]
          }
        },
        "10cd5a1392804768b2ba73a7a16e0049": {
          "model_module": "@jupyter-widgets/base",
          "model_name": "LayoutModel",
          "state": {
            "_view_name": "LayoutView",
            "grid_template_rows": null,
            "right": null,
            "justify_content": null,
            "_view_module": "@jupyter-widgets/base",
            "overflow": null,
            "_model_module_version": "1.2.0",
            "_view_count": null,
            "flex_flow": null,
            "width": null,
            "min_width": null,
            "border": null,
            "align_items": null,
            "bottom": null,
            "_model_module": "@jupyter-widgets/base",
            "top": null,
            "grid_column": null,
            "overflow_y": null,
            "overflow_x": null,
            "grid_auto_flow": null,
            "grid_area": null,
            "grid_template_columns": null,
            "flex": null,
            "_model_name": "LayoutModel",
            "justify_items": null,
            "grid_row": null,
            "max_height": null,
            "align_content": null,
            "visibility": null,
            "align_self": null,
            "height": null,
            "min_height": null,
            "padding": null,
            "grid_auto_rows": null,
            "grid_gap": null,
            "max_width": null,
            "order": null,
            "_view_module_version": "1.2.0",
            "grid_template_areas": null,
            "object_position": null,
            "object_fit": null,
            "grid_auto_columns": null,
            "margin": null,
            "display": null,
            "left": null
          }
        },
        "bef3fb947d614a42a1e54b59b847a335": {
          "model_module": "@jupyter-widgets/controls",
          "model_name": "FloatProgressModel",
          "state": {
            "_view_name": "ProgressView",
            "style": "IPY_MODEL_c19a493bfe8a40fea8af075195984cd5",
            "_dom_classes": [],
            "description": " 89%",
            "_model_name": "FloatProgressModel",
            "bar_style": "danger",
            "max": 100,
            "_view_module": "@jupyter-widgets/controls",
            "_model_module_version": "1.5.0",
            "value": 89,
            "_view_count": null,
            "_view_module_version": "1.5.0",
            "orientation": "horizontal",
            "min": 0,
            "description_tooltip": null,
            "_model_module": "@jupyter-widgets/controls",
            "layout": "IPY_MODEL_0b63f9ee13f04989933888a24b8fc270"
          }
        },
        "c5d07e156cf842889e890dc8a3409c03": {
          "model_module": "@jupyter-widgets/controls",
          "model_name": "HTMLModel",
          "state": {
            "_view_name": "HTMLView",
            "style": "IPY_MODEL_91bd90be4a8a42b6bff8e3354aeec175",
            "_dom_classes": [],
            "description": "",
            "_model_name": "HTMLModel",
            "placeholder": "​",
            "_view_module": "@jupyter-widgets/controls",
            "_model_module_version": "1.5.0",
            "value": " 89/100 [36:15&lt;04:25, 24.14s/it]",
            "_view_count": null,
            "_view_module_version": "1.5.0",
            "description_tooltip": null,
            "_model_module": "@jupyter-widgets/controls",
            "layout": "IPY_MODEL_4a123950c56b4945862706b4199cd727"
          }
        },
        "c19a493bfe8a40fea8af075195984cd5": {
          "model_module": "@jupyter-widgets/controls",
          "model_name": "ProgressStyleModel",
          "state": {
            "_view_name": "StyleView",
            "_model_name": "ProgressStyleModel",
            "description_width": "initial",
            "_view_module": "@jupyter-widgets/base",
            "_model_module_version": "1.5.0",
            "_view_count": null,
            "_view_module_version": "1.2.0",
            "bar_color": null,
            "_model_module": "@jupyter-widgets/controls"
          }
        },
        "0b63f9ee13f04989933888a24b8fc270": {
          "model_module": "@jupyter-widgets/base",
          "model_name": "LayoutModel",
          "state": {
            "_view_name": "LayoutView",
            "grid_template_rows": null,
            "right": null,
            "justify_content": null,
            "_view_module": "@jupyter-widgets/base",
            "overflow": null,
            "_model_module_version": "1.2.0",
            "_view_count": null,
            "flex_flow": null,
            "width": null,
            "min_width": null,
            "border": null,
            "align_items": null,
            "bottom": null,
            "_model_module": "@jupyter-widgets/base",
            "top": null,
            "grid_column": null,
            "overflow_y": null,
            "overflow_x": null,
            "grid_auto_flow": null,
            "grid_area": null,
            "grid_template_columns": null,
            "flex": null,
            "_model_name": "LayoutModel",
            "justify_items": null,
            "grid_row": null,
            "max_height": null,
            "align_content": null,
            "visibility": null,
            "align_self": null,
            "height": null,
            "min_height": null,
            "padding": null,
            "grid_auto_rows": null,
            "grid_gap": null,
            "max_width": null,
            "order": null,
            "_view_module_version": "1.2.0",
            "grid_template_areas": null,
            "object_position": null,
            "object_fit": null,
            "grid_auto_columns": null,
            "margin": null,
            "display": null,
            "left": null
          }
        },
        "91bd90be4a8a42b6bff8e3354aeec175": {
          "model_module": "@jupyter-widgets/controls",
          "model_name": "DescriptionStyleModel",
          "state": {
            "_view_name": "StyleView",
            "_model_name": "DescriptionStyleModel",
            "description_width": "",
            "_view_module": "@jupyter-widgets/base",
            "_model_module_version": "1.5.0",
            "_view_count": null,
            "_view_module_version": "1.2.0",
            "_model_module": "@jupyter-widgets/controls"
          }
        },
        "4a123950c56b4945862706b4199cd727": {
          "model_module": "@jupyter-widgets/base",
          "model_name": "LayoutModel",
          "state": {
            "_view_name": "LayoutView",
            "grid_template_rows": null,
            "right": null,
            "justify_content": null,
            "_view_module": "@jupyter-widgets/base",
            "overflow": null,
            "_model_module_version": "1.2.0",
            "_view_count": null,
            "flex_flow": null,
            "width": null,
            "min_width": null,
            "border": null,
            "align_items": null,
            "bottom": null,
            "_model_module": "@jupyter-widgets/base",
            "top": null,
            "grid_column": null,
            "overflow_y": null,
            "overflow_x": null,
            "grid_auto_flow": null,
            "grid_area": null,
            "grid_template_columns": null,
            "flex": null,
            "_model_name": "LayoutModel",
            "justify_items": null,
            "grid_row": null,
            "max_height": null,
            "align_content": null,
            "visibility": null,
            "align_self": null,
            "height": null,
            "min_height": null,
            "padding": null,
            "grid_auto_rows": null,
            "grid_gap": null,
            "max_width": null,
            "order": null,
            "_view_module_version": "1.2.0",
            "grid_template_areas": null,
            "object_position": null,
            "object_fit": null,
            "grid_auto_columns": null,
            "margin": null,
            "display": null,
            "left": null
          }
        }
      }
    }
  },
  "cells": [
    {
      "cell_type": "markdown",
      "metadata": {
        "id": "AepUtOEnlCkl"
      },
      "source": [
        "# Developing SmokeSegNet\n",
        "The aim of this notebook is to develop the code necassary to:\n",
        "* adapt model initialisation\n",
        "* adapt dataclass for dataloader\n",
        "* develop code for unzipping the tar file form of the data\n",
        "\n",
        "This notebook will also attempt to train the model for a small number of runs to observe model behaviour."
      ]
    },
    {
      "cell_type": "code",
      "metadata": {
        "id": "zCGappofk9qE"
      },
      "source": [
        "#################### Imports #########################\n",
        "\n",
        "from __future__ import print_function, division\n",
        "import torch\n",
        "import torchvision\n",
        "import torchvision.transforms as transforms\n",
        "import torch.optim as optim\n",
        "import torchvision.models as models\n",
        "import torch.nn as nn\n",
        "from torch.optim import lr_scheduler\n",
        "import torch.nn.functional as F\n",
        "from collections import OrderedDict\n",
        "import time\n",
        "import numpy as np\n",
        "from torch.autograd import Variable\n",
        "from pathlib import Path\n",
        "from PIL import Image\n",
        "# imports copied for loading in data\n",
        "import os\n",
        "import pandas as pd\n",
        "#from skimage import io, transform\n",
        "import matplotlib.pyplot as plt\n",
        "from torch.utils.data import Dataset, DataLoader\n",
        "from torchvision import transforms, utils\n",
        "# Ignore warnings\n",
        "import warnings\n",
        "warnings.filterwarnings(\"ignore\")\n",
        "plt.ion()   # interactive mode\n",
        "multiGPU = False"
      ],
      "execution_count": 1,
      "outputs": []
    },
    {
      "cell_type": "code",
      "metadata": {
        "id": "7Ovcvl67lFn4"
      },
      "source": [
        "############### Dataclass for Smoke Data ##################\n",
        "\n",
        "class SmokeDataset(Dataset):\n",
        "    def __init__(self, b03_dir, b04_dir, b05_dir, b06_dir, b07_dir, b09_dir, b11_dir, b12_dir, msk, pytorch=True): # b08 directory removed\n",
        "        super().__init__()\n",
        "        \n",
        "        # Loop through the files in red folder and combine, into a dictionary, the other bands\n",
        "        self.files = [self.combine_files(f, b04_dir, b05_dir, b06_dir, b07_dir, b09_dir, b11_dir, b12_dir, msk) for f in b03_dir.iterdir() if not f.is_dir()]\n",
        "        self.pytorch = pytorch\n",
        "        \n",
        "    def combine_files(self, r_file: Path, b04_dir, b05_dir, b06_dir, b07_dir, b09_dir, b11_dir, b12_dir, msk):\n",
        "        \n",
        "        files = {'b03': r_file,\n",
        "                'b04': b04_dir/r_file.name.replace('B03', 'B04'),\n",
        "                'b05': b05_dir/r_file.name.replace('B03', 'B05'),\n",
        "                'b06': b06_dir/r_file.name.replace('B03', 'B06'),\n",
        "                'b07': b07_dir/r_file.name.replace('B03', 'B07'),\n",
        "                #'b08': b08_dir/r_file.name.replace('B03', 'B08'),\n",
        "                'b09': b09_dir/r_file.name.replace('B03', 'B09'),\n",
        "                'b011': b11_dir/r_file.name.replace('B03', 'B11'),\n",
        "                'b012': b12_dir/r_file.name.replace('B03', 'B12'),\n",
        "                 'msk': msk/r_file.name.replace('B03', 'smokemask')\n",
        "                }\n",
        "\n",
        "        return files\n",
        "                                       \n",
        "    def __len__(self):\n",
        "        \n",
        "        return len(self.files)\n",
        "    \n",
        "    def open_as_array(self, idx, invert=False, include_nir=False):\n",
        "\n",
        "        img = np.stack([np.array(Image.open(self.files[idx]['b03'])),\n",
        "                            np.array(Image.open(self.files[idx]['b04'])),\n",
        "                            np.array(Image.open(self.files[idx]['b05'])),\n",
        "                        np.array(Image.open(self.files[idx]['b06'])),\n",
        "                        np.array(Image.open(self.files[idx]['b07'])),\n",
        "                        #np.array(Image.open(self.files[idx]['b08'])),\n",
        "                        np.array(Image.open(self.files[idx]['b09'])),\n",
        "                        np.array(Image.open(self.files[idx]['b011'])),\n",
        "                        np.array(Image.open(self.files[idx]['b012'])),\n",
        "                           ], axis=2)\n",
        "    \n",
        "    \n",
        "        if invert:\n",
        "            img = img.transpose((2,0,1))\n",
        "    \n",
        "        # normalize\n",
        "        return (img / np.iinfo(img.dtype).max)\n",
        "\n",
        "    def open_mask(self, idx, add_dims=False):\n",
        "        \n",
        "        raw_mask = np.array(Image.open(self.files[idx]['msk']))\n",
        "        raw_mask = np.where(raw_mask==255, 1, 0)\n",
        "        \n",
        "        return np.expand_dims(raw_mask, 0) if add_dims else raw_mask\n",
        "    \n",
        "    def __getitem__(self, idx):\n",
        "        \n",
        "        x = torch.tensor(self.open_as_array(idx, invert=self.pytorch, include_nir=True), dtype=torch.float32)\n",
        "        y = torch.tensor(self.open_mask(idx, add_dims=False), dtype=torch.torch.int64)\n",
        "        \n",
        "        return x, y\n",
        "\n",
        "    \n",
        "    def __repr__(self):\n",
        "        s = 'Dataset class with {} files'.format(self.__len__())\n",
        "\n",
        "        return s"
      ],
      "execution_count": 63,
      "outputs": []
    },
    {
      "cell_type": "code",
      "metadata": {
        "id": "sn0t9xCTlHs2"
      },
      "source": [
        "############## Code for Unpacking Data ###############\n",
        "!tar -I pigz -xvf smokedata/SmokeDataset.tar -C smokedata"
      ],
      "execution_count": null,
      "outputs": []
    },
    {
      "cell_type": "code",
      "metadata": {
        "id": "b7qpziVHl_ow",
        "outputId": "ec6b6708-efe1-4233-adab-6a273dca176b",
        "colab": {
          "base_uri": "https://localhost:8080/",
          "height": 34
        }
      },
      "source": [
        "%cd '/content/drive/My Drive/Segmentation Model/SmokeSegDataset'"
      ],
      "execution_count": 7,
      "outputs": [
        {
          "output_type": "stream",
          "text": [
            "/content/drive/My Drive/Segmentation Model/SmokeSegDataset\n"
          ],
          "name": "stdout"
        }
      ]
    },
    {
      "cell_type": "code",
      "metadata": {
        "id": "Zi7BiS2rmJ93",
        "outputId": "b429b027-2fce-4beb-a66a-dfcabfa071ab",
        "colab": {
          "base_uri": "https://localhost:8080/",
          "height": 52
        }
      },
      "source": [
        "%ls"
      ],
      "execution_count": 30,
      "outputs": [
        {
          "output_type": "stream",
          "text": [
            "\u001b[0m\u001b[01;34mB01T55HGA_20191201T000241\u001b[0m/  \u001b[01;34mT56HKG_20191231T000241\u001b[0m/\n",
            "\u001b[01;34mT55HGA_20200130T000231\u001b[0m/     \u001b[01;34mtraining\u001b[0m/\n"
          ],
          "name": "stdout"
        }
      ]
    },
    {
      "cell_type": "code",
      "metadata": {
        "id": "lwjIjsJolINW",
        "outputId": "2396a007-020f-480e-ab16-875e9c97e10d",
        "colab": {
          "base_uri": "https://localhost:8080/",
          "height": 34
        }
      },
      "source": [
        "############### Import Data ##################\n",
        "\n",
        "base_path = Path('training')\n",
        "data = SmokeDataset(base_path/'train_B03', \n",
        "                    base_path/'train_B04', \n",
        "                    base_path/'train_B05', \n",
        "                    base_path/'train_B06',\n",
        "                    base_path/'train_B07',\n",
        "                    #base_path/'train_B08',\n",
        "                    base_path/'train_B09',\n",
        "                    base_path/'train_B11',\n",
        "                    base_path/'train_B12',\n",
        "                    base_path/'train_smokemask')\n",
        "len(data)"
      ],
      "execution_count": 64,
      "outputs": [
        {
          "output_type": "execute_result",
          "data": {
            "text/plain": [
              "2523"
            ]
          },
          "metadata": {
            "tags": []
          },
          "execution_count": 64
        }
      ]
    },
    {
      "cell_type": "code",
      "metadata": {
        "id": "Udz3xhg_lITZ"
      },
      "source": [
        "############### Import Model ##################\n",
        "\n",
        "from segnet2 import SegNet"
      ],
      "execution_count": null,
      "outputs": []
    },
    {
      "cell_type": "code",
      "metadata": {
        "id": "mDySOLaApJlr"
      },
      "source": [
        "import torch\n",
        "import torch.nn as nn\n",
        "import torch.nn.functional as F\n",
        "from collections import OrderedDict\n",
        "\n",
        "class SegNet(nn.Module):\n",
        "    def __init__(self,input_nbr,label_nbr):\n",
        "        super(SegNet, self).__init__()\n",
        "\n",
        "        batchNorm_momentum = 0.1\n",
        "\n",
        "        self.conv11 = nn.Conv2d(input_nbr, 64, kernel_size=3, padding=1)\n",
        "        self.bn11 = nn.BatchNorm2d(64, momentum= batchNorm_momentum)\n",
        "        self.conv12 = nn.Conv2d(64, 64, kernel_size=3, padding=1)\n",
        "        self.bn12 = nn.BatchNorm2d(64, momentum= batchNorm_momentum)\n",
        "\n",
        "        self.conv21 = nn.Conv2d(64, 128, kernel_size=3, padding=1)\n",
        "        self.bn21 = nn.BatchNorm2d(128, momentum= batchNorm_momentum)\n",
        "        self.conv22 = nn.Conv2d(128, 128, kernel_size=3, padding=1)\n",
        "        self.bn22 = nn.BatchNorm2d(128, momentum= batchNorm_momentum)\n",
        "\n",
        "        self.conv31 = nn.Conv2d(128, 256, kernel_size=3, padding=1)\n",
        "        self.bn31 = nn.BatchNorm2d(256, momentum= batchNorm_momentum)\n",
        "        self.conv32 = nn.Conv2d(256, 256, kernel_size=3, padding=1)\n",
        "        self.bn32 = nn.BatchNorm2d(256, momentum= batchNorm_momentum)\n",
        "        self.conv33 = nn.Conv2d(256, 256, kernel_size=3, padding=1)\n",
        "        self.bn33 = nn.BatchNorm2d(256, momentum= batchNorm_momentum)\n",
        "\n",
        "        self.conv41 = nn.Conv2d(256, 512, kernel_size=3, padding=1)\n",
        "        self.bn41 = nn.BatchNorm2d(512, momentum= batchNorm_momentum)\n",
        "        self.conv42 = nn.Conv2d(512, 512, kernel_size=3, padding=1)\n",
        "        self.bn42 = nn.BatchNorm2d(512, momentum= batchNorm_momentum)\n",
        "        self.conv43 = nn.Conv2d(512, 512, kernel_size=3, padding=1)\n",
        "        self.bn43 = nn.BatchNorm2d(512, momentum= batchNorm_momentum)\n",
        "\n",
        "        self.conv51 = nn.Conv2d(512, 512, kernel_size=3, padding=1)\n",
        "        self.bn51 = nn.BatchNorm2d(512, momentum= batchNorm_momentum)\n",
        "        self.conv52 = nn.Conv2d(512, 512, kernel_size=3, padding=1)\n",
        "        self.bn52 = nn.BatchNorm2d(512, momentum= batchNorm_momentum)\n",
        "        self.conv53 = nn.Conv2d(512, 512, kernel_size=3, padding=1)\n",
        "        self.bn53 = nn.BatchNorm2d(512, momentum= batchNorm_momentum)\n",
        "\n",
        "        self.conv53d = nn.Conv2d(512, 512, kernel_size=3, padding=1)\n",
        "        self.bn53d = nn.BatchNorm2d(512, momentum= batchNorm_momentum)\n",
        "        self.conv52d = nn.Conv2d(512, 512, kernel_size=3, padding=1)\n",
        "        self.bn52d = nn.BatchNorm2d(512, momentum= batchNorm_momentum)\n",
        "        self.conv51d = nn.Conv2d(512, 512, kernel_size=3, padding=1)\n",
        "        self.bn51d = nn.BatchNorm2d(512, momentum= batchNorm_momentum)\n",
        "\n",
        "        self.conv43d = nn.Conv2d(512, 512, kernel_size=3, padding=1)\n",
        "        self.bn43d = nn.BatchNorm2d(512, momentum= batchNorm_momentum)\n",
        "        self.conv42d = nn.Conv2d(512, 512, kernel_size=3, padding=1)\n",
        "        self.bn42d = nn.BatchNorm2d(512, momentum= batchNorm_momentum)\n",
        "        self.conv41d = nn.Conv2d(512, 256, kernel_size=3, padding=1)\n",
        "        self.bn41d = nn.BatchNorm2d(256, momentum= batchNorm_momentum)\n",
        "\n",
        "        self.conv33d = nn.Conv2d(256, 256, kernel_size=3, padding=1)\n",
        "        self.bn33d = nn.BatchNorm2d(256, momentum= batchNorm_momentum)\n",
        "        self.conv32d = nn.Conv2d(256, 256, kernel_size=3, padding=1)\n",
        "        self.bn32d = nn.BatchNorm2d(256, momentum= batchNorm_momentum)\n",
        "        self.conv31d = nn.Conv2d(256,  128, kernel_size=3, padding=1)\n",
        "        self.bn31d = nn.BatchNorm2d(128, momentum= batchNorm_momentum)\n",
        "\n",
        "        self.conv22d = nn.Conv2d(128, 128, kernel_size=3, padding=1)\n",
        "        self.bn22d = nn.BatchNorm2d(128, momentum= batchNorm_momentum)\n",
        "        self.conv21d = nn.Conv2d(128, 64, kernel_size=3, padding=1)\n",
        "        self.bn21d = nn.BatchNorm2d(64, momentum= batchNorm_momentum)\n",
        "\n",
        "        self.conv12d = nn.Conv2d(64, 64, kernel_size=3, padding=1)\n",
        "        self.bn12d = nn.BatchNorm2d(64, momentum= batchNorm_momentum)\n",
        "        self.conv11d = nn.Conv2d(64, label_nbr, kernel_size=3, padding=1)\n",
        "\n",
        "\n",
        "    def forward(self, x):\n",
        "\n",
        "        # Stage 1\n",
        "        x11 = F.relu(self.bn11(self.conv11(x)))\n",
        "        x12 = F.relu(self.bn12(self.conv12(x11)))\n",
        "        x1p, id1 = F.max_pool2d(x12,kernel_size=2, stride=2,return_indices=True)\n",
        "\n",
        "        # Stage 2\n",
        "        x21 = F.relu(self.bn21(self.conv21(x1p)))\n",
        "        x22 = F.relu(self.bn22(self.conv22(x21)))\n",
        "        x2p, id2 = F.max_pool2d(x22,kernel_size=2, stride=2,return_indices=True)\n",
        "\n",
        "        # Stage 3\n",
        "        x31 = F.relu(self.bn31(self.conv31(x2p)))\n",
        "        x32 = F.relu(self.bn32(self.conv32(x31)))\n",
        "        x33 = F.relu(self.bn33(self.conv33(x32)))\n",
        "        x3p, id3 = F.max_pool2d(x33,kernel_size=2, stride=2,return_indices=True)\n",
        "\n",
        "        # Stage 4\n",
        "        x41 = F.relu(self.bn41(self.conv41(x3p)))\n",
        "        x42 = F.relu(self.bn42(self.conv42(x41)))\n",
        "        x43 = F.relu(self.bn43(self.conv43(x42)))\n",
        "        x4p, id4 = F.max_pool2d(x43,kernel_size=2, stride=2,return_indices=True)\n",
        "\n",
        "        # Stage 5\n",
        "        x51 = F.relu(self.bn51(self.conv51(x4p)))\n",
        "        x52 = F.relu(self.bn52(self.conv52(x51)))\n",
        "        x53 = F.relu(self.bn53(self.conv53(x52)))\n",
        "        x5p, id5 = F.max_pool2d(x53,kernel_size=2, stride=2,return_indices=True)\n",
        "\n",
        "\n",
        "        # Stage 5d\n",
        "        x5d = F.max_unpool2d(x5p, id5, kernel_size=2, stride=2)\n",
        "        x53d = F.relu(self.bn53d(self.conv53d(x5d)))\n",
        "        x52d = F.relu(self.bn52d(self.conv52d(x53d)))\n",
        "        x51d = F.relu(self.bn51d(self.conv51d(x52d)))\n",
        "\n",
        "        # Stage 4d\n",
        "        x4d = F.max_unpool2d(x51d, id4, kernel_size=2, stride=2)\n",
        "        x43d = F.relu(self.bn43d(self.conv43d(x4d)))\n",
        "        x42d = F.relu(self.bn42d(self.conv42d(x43d)))\n",
        "        x41d = F.relu(self.bn41d(self.conv41d(x42d)))\n",
        "\n",
        "        # Stage 3d\n",
        "        x3d = F.max_unpool2d(x41d, id3, kernel_size=2, stride=2)\n",
        "        x33d = F.relu(self.bn33d(self.conv33d(x3d)))\n",
        "        x32d = F.relu(self.bn32d(self.conv32d(x33d)))\n",
        "        x31d = F.relu(self.bn31d(self.conv31d(x32d)))\n",
        "\n",
        "        # Stage 2d\n",
        "        x2d = F.max_unpool2d(x31d, id2, kernel_size=2, stride=2)\n",
        "        x22d = F.relu(self.bn22d(self.conv22d(x2d)))\n",
        "        x21d = F.relu(self.bn21d(self.conv21d(x22d)))\n",
        "\n",
        "        # Stage 1d\n",
        "        x1d = F.max_unpool2d(x21d, id1, kernel_size=2, stride=2)\n",
        "        x12d = F.relu(self.bn12d(self.conv12d(x1d)))\n",
        "        x11d = self.conv11d(x12d)\n",
        "\n",
        "        return x11d\n",
        "\n",
        "    def load_from_segnet(self, model_path):\n",
        "        s_dict = self.state_dict()# create a copy of the state dict\n",
        "        th = torch.load(model_path).state_dict() # load the weigths\n",
        "        # for name in th:\n",
        "            # s_dict[corresp_name[name]] = th[name]\n",
        "        self.load_state_dict(th)"
      ],
      "execution_count": 20,
      "outputs": []
    },
    {
      "cell_type": "code",
      "metadata": {
        "id": "iWZJMg61sdo2",
        "outputId": "487c9c0b-56d7-421c-98d2-a22175d1b537",
        "colab": {
          "base_uri": "https://localhost:8080/",
          "height": 52
        }
      },
      "source": [
        "%ls"
      ],
      "execution_count": 37,
      "outputs": [
        {
          "output_type": "stream",
          "text": [
            "\u001b[0m\u001b[01;34mB01T55HGA_20191201T000241\u001b[0m/  \u001b[01;34mT56HKG_20191231T000241\u001b[0m/\n",
            "\u001b[01;34mT55HGA_20200130T000231\u001b[0m/     \u001b[01;34mtraining\u001b[0m/\n"
          ],
          "name": "stdout"
        }
      ]
    },
    {
      "cell_type": "code",
      "metadata": {
        "id": "v7_pZhpgsE0V"
      },
      "source": [
        "!cd '/content'"
      ],
      "execution_count": 35,
      "outputs": []
    },
    {
      "cell_type": "code",
      "metadata": {
        "id": "gwzFQRYKpZAO",
        "outputId": "4a8744df-ac57-4bc8-b5bc-8ad0b6209bc3",
        "colab": {
          "base_uri": "https://localhost:8080/",
          "height": 34
        }
      },
      "source": [
        "####### Split the data ##########\n",
        "train_ds, valid_ds = torch.utils.data.random_split(data, (1766, 757)) # 70/30 train/val split\n",
        "train_dl = DataLoader(train_ds, batch_size=4, shuffle=True)\n",
        "valid_dl = DataLoader(valid_ds, batch_size=4, shuffle=True)\n",
        "xb, yb = next(iter(train_dl))\n",
        "xb.shape, yb.shape"
      ],
      "execution_count": 66,
      "outputs": [
        {
          "output_type": "execute_result",
          "data": {
            "text/plain": [
              "(torch.Size([4, 8, 384, 384]), torch.Size([4, 384, 384]))"
            ]
          },
          "metadata": {
            "tags": []
          },
          "execution_count": 66
        }
      ]
    },
    {
      "cell_type": "code",
      "metadata": {
        "id": "MNu3CD3fuRj-",
        "outputId": "26952b2a-e93c-44fd-8d48-df6c2ffb9c1a",
        "colab": {
          "base_uri": "https://localhost:8080/",
          "height": 34
        }
      },
      "source": [
        "xb, yb = next(iter(train_dl))\n",
        "xb.shape, yb.shape"
      ],
      "execution_count": 67,
      "outputs": [
        {
          "output_type": "execute_result",
          "data": {
            "text/plain": [
              "(torch.Size([4, 8, 384, 384]), torch.Size([4, 384, 384]))"
            ]
          },
          "metadata": {
            "tags": []
          },
          "execution_count": 67
        }
      ]
    },
    {
      "cell_type": "code",
      "metadata": {
        "id": "Qs1hyNf1xkwq",
        "outputId": "5946f752-f8a9-4295-c5e5-745ebadbecbb",
        "colab": {
          "base_uri": "https://localhost:8080/",
          "height": 283
        }
      },
      "source": [
        "!pip install torch_lr_finder"
      ],
      "execution_count": 69,
      "outputs": [
        {
          "output_type": "stream",
          "text": [
            "Collecting torch_lr_finder\n",
            "  Downloading https://files.pythonhosted.org/packages/ea/51/1a869067989a0fdaf18e49f0ee3aebfcb63470525245aac7dc390cfc676a/torch_lr_finder-0.2.1-py3-none-any.whl\n",
            "Requirement already satisfied: torch>=0.4.1 in /usr/local/lib/python3.6/dist-packages (from torch_lr_finder) (1.6.0+cu101)\n",
            "Requirement already satisfied: packaging in /usr/local/lib/python3.6/dist-packages (from torch_lr_finder) (20.4)\n",
            "Requirement already satisfied: numpy in /usr/local/lib/python3.6/dist-packages (from torch_lr_finder) (1.18.5)\n",
            "Requirement already satisfied: tqdm in /usr/local/lib/python3.6/dist-packages (from torch_lr_finder) (4.41.1)\n",
            "Requirement already satisfied: matplotlib in /usr/local/lib/python3.6/dist-packages (from torch_lr_finder) (3.2.2)\n",
            "Requirement already satisfied: future in /usr/local/lib/python3.6/dist-packages (from torch>=0.4.1->torch_lr_finder) (0.16.0)\n",
            "Requirement already satisfied: six in /usr/local/lib/python3.6/dist-packages (from packaging->torch_lr_finder) (1.15.0)\n",
            "Requirement already satisfied: pyparsing>=2.0.2 in /usr/local/lib/python3.6/dist-packages (from packaging->torch_lr_finder) (2.4.7)\n",
            "Requirement already satisfied: kiwisolver>=1.0.1 in /usr/local/lib/python3.6/dist-packages (from matplotlib->torch_lr_finder) (1.2.0)\n",
            "Requirement already satisfied: cycler>=0.10 in /usr/local/lib/python3.6/dist-packages (from matplotlib->torch_lr_finder) (0.10.0)\n",
            "Requirement already satisfied: python-dateutil>=2.1 in /usr/local/lib/python3.6/dist-packages (from matplotlib->torch_lr_finder) (2.8.1)\n",
            "Installing collected packages: torch-lr-finder\n",
            "Successfully installed torch-lr-finder-0.2.1\n"
          ],
          "name": "stdout"
        }
      ]
    },
    {
      "cell_type": "code",
      "metadata": {
        "id": "XGDm5AldlSO1",
        "outputId": "85b757d1-8f45-475f-d7ff-4caddae15fbb",
        "colab": {
          "base_uri": "https://localhost:8080/",
          "height": 385,
          "referenced_widgets": [
            "f75029e72f3e492e9fbe9ca300b4271b",
            "10cd5a1392804768b2ba73a7a16e0049",
            "bef3fb947d614a42a1e54b59b847a335",
            "c5d07e156cf842889e890dc8a3409c03",
            "c19a493bfe8a40fea8af075195984cd5",
            "0b63f9ee13f04989933888a24b8fc270",
            "91bd90be4a8a42b6bff8e3354aeec175",
            "4a123950c56b4945862706b4199cd727"
          ]
        }
      },
      "source": [
        "############# Find optimal learning rate #################\n",
        "\n",
        "from torch_lr_finder import LRFinder\n",
        "\n",
        "\n",
        "num_classes = 2          # smoke and non-smoke\n",
        "num_channels = 8         # 9 input channels for the hyperspectral image (-1) becuause of B08\n",
        "model = SegNet(num_channels,num_classes)\n",
        "criterion = nn.CrossEntropyLoss()\n",
        "optimizer = optim.Adam(model.parameters(), lr=1e-7, weight_decay=1e-2)\n",
        "lr_finder = LRFinder(model, optimizer, criterion, device=\"cuda\")\n",
        "lr_finder.range_test(train_dl, end_lr=100, num_iter=100)\n",
        "lr_finder.plot() # to inspect the loss-learning rate graph\n",
        "lr_finder.reset() # to reset the model and optimizer to their initial state"
      ],
      "execution_count": 70,
      "outputs": [
        {
          "output_type": "display_data",
          "data": {
            "application/vnd.jupyter.widget-view+json": {
              "model_id": "f75029e72f3e492e9fbe9ca300b4271b",
              "version_minor": 0,
              "version_major": 2
            },
            "text/plain": [
              "HBox(children=(FloatProgress(value=0.0), HTML(value='')))"
            ]
          },
          "metadata": {
            "tags": []
          }
        },
        {
          "output_type": "stream",
          "text": [
            "Stopping early, the loss has diverged\n",
            "Learning rate search finished. See the graph with {finder_name}.plot()\n",
            "LR suggestion: steepest gradient\n",
            "Suggested LR: 1.52E-03\n"
          ],
          "name": "stdout"
        },
        {
          "output_type": "display_data",
          "data": {
            "image/png": "[encoded data removed]",
            "text/plain": [
              "<Figure size 432x288 with 1 Axes>"
            ]
          },
          "metadata": {
            "tags": [],
            "needs_background": "light"
          }
        }
      ]
    },
    {
      "cell_type": "code",
      "metadata": {
        "id": "xwqOQldDyPxs"
      },
      "source": [
        "################## Train function ####################### w. saving every 500 steps \n",
        "import time\n",
        "from IPython.display import clear_output\n",
        "\n",
        "def train(model, train_dl, valid_dl, loss_fn, optimizer, scheduler, acc_fn, path, epochs=1):\n",
        "    start = time.time()\n",
        "\n",
        "    train_loss, valid_loss = [], []\n",
        "\n",
        "    best_acc = 0.0\n",
        "\n",
        "    for epoch in range(epochs):\n",
        "        print('Epoch {}/{}'.format(epoch, epochs - 1))\n",
        "        print('-' * 10)\n",
        "\n",
        "        for phase in ['train', 'valid']:\n",
        "            if phase == 'train':\n",
        "                model.train(True)  # Set trainind mode = true\n",
        "                dataloader = train_dl\n",
        "            else:\n",
        "                model.train(False)  # Set model to evaluate mode\n",
        "                dataloader = valid_dl\n",
        "\n",
        "            running_loss = 0.0\n",
        "            running_acc = 0.0\n",
        "\n",
        "            step = 0\n",
        "\n",
        "            # iterate over data\n",
        "            for x, y in dataloader:\n",
        "                x = x.cuda()\n",
        "                y = y.cuda()\n",
        "                step += 1\n",
        "\n",
        "                # forward pass\n",
        "                if phase == 'train':\n",
        "                    # zero the gradients\n",
        "                    optimizer.zero_grad()\n",
        "                    outputs = model(x)\n",
        "                    loss = loss_fn(outputs, y)\n",
        "\n",
        "                    # the backward pass frees the graph memory, so there is no \n",
        "                    # need for torch.no_grad in this training pass\n",
        "                    loss.backward()\n",
        "                    optimizer.step()\n",
        "                    scheduler.step()\n",
        "\n",
        "                else:\n",
        "                    with torch.no_grad():\n",
        "                        outputs = model(x)\n",
        "                        loss = loss_fn(outputs, y.long())\n",
        "\n",
        "                # stats - whatever is the phase\n",
        "                acc = acc_fn(outputs, y)\n",
        "\n",
        "                running_acc  += acc*dataloader.batch_size\n",
        "                running_loss += loss*dataloader.batch_size \n",
        "\n",
        "                if step % 100 == 0:\n",
        "                    # clear_output(wait=True)\n",
        "                    print('Current step: {}  Loss: {}  Acc: {}  AllocMem (Mb): {}'.format(step, loss, acc, torch.cuda.memory_allocated()/1024/1024))\n",
        "                    # print(torch.cuda.memory_summary())\n",
        "                \n",
        "                # save the model every 500 steps in case the training quits unexpectedly\n",
        "                if step % 200 == 0:\n",
        "                  torch.save(model.state_dict(), path)\n",
        "\n",
        "            epoch_loss = running_loss / len(dataloader.dataset)\n",
        "            epoch_acc = running_acc / len(dataloader.dataset)\n",
        "\n",
        "            clear_output(wait=True)\n",
        "            print('Epoch {}/{}'.format(epoch, epochs - 1))\n",
        "            print('-' * 10)\n",
        "            print('{} Loss: {:.4f} Acc: {}'.format(phase, epoch_loss, epoch_acc))\n",
        "            print('-' * 10)\n",
        "\n",
        "            train_loss.append(epoch_loss) if phase=='train' else valid_loss.append(epoch_loss)\n",
        "\n",
        "    time_elapsed = time.time() - start\n",
        "    print('Training complete in {:.0f}m {:.0f}s'.format(time_elapsed // 60, time_elapsed % 60))    \n",
        "    \n",
        "    return train_loss, valid_loss    \n",
        "\n",
        "def acc_metric(predb, yb):\n",
        "    return (predb.argmax(dim=1) == yb.cuda()).float().mean()"
      ],
      "execution_count": 76,
      "outputs": []
    },
    {
      "cell_type": "code",
      "metadata": {
        "id": "gAlMsspXlIF-"
      },
      "source": [
        "################ Initialise Model ###############\n",
        "learning_rate = 1.52E-03 # learning rate from lr_finder\n",
        "num_classes = 2          # smoke and non-smoke\n",
        "num_channels = 8         # 9 input channels for the hyperspectral image but (-1) since B08 is incomplete\n",
        "model = SegNet(num_channels,num_classes)\n",
        "optimizer = optim.Adam(model.parameters(), lr=learning_rate)                  \n",
        "exp_lr_scheduler = lr_scheduler.StepLR(optimizer, step_size=7, gamma=0.1)\n",
        "loss_fn = nn.CrossEntropyLoss()\n",
        "\n",
        "\n",
        "if torch.cuda.is_available():\n",
        "  model.cuda()\n",
        "\n",
        "if torch.cuda.device_count() > 1:\n",
        "  print(\"Using\", torch.cuda.device_count(), \"GPUs!\")\n",
        "  # dim = 0 [30, xxx] -> [10, ...], [10, ...], [10, ...] on 3 GPUs\n",
        "  model = nn.DataParallel(model)"
      ],
      "execution_count": 82,
      "outputs": []
    },
    {
      "cell_type": "code",
      "metadata": {
        "id": "cjxGTpj_ytGg",
        "outputId": "56f7fe2d-c05b-4142-cfa8-3226259db3a7",
        "colab": {
          "base_uri": "https://localhost:8080/",
          "height": 141
        }
      },
      "source": [
        "path =  'smokesegnet_state_dict.pt'\n",
        "epochs = 20\n",
        "train_loss, valid_loss = train(model, train_dl, valid_dl, loss_fn, optimizer, exp_lr_scheduler, acc_metric, path, epochs=epochs)"
      ],
      "execution_count": null,
      "outputs": [
        {
          "output_type": "stream",
          "text": [
            "Epoch 2/19\n",
            "----------\n",
            "valid Loss: 0.0831 Acc: 1.0039629936218262\n",
            "----------\n",
            "Epoch 3/19\n",
            "----------\n",
            "Current step: 100  Loss: 0.10387706756591797  Acc: 1.0  AllocMem (Mb): 962.33642578125\n"
          ],
          "name": "stdout"
        }
      ]
    },
    {
      "cell_type": "code",
      "metadata": {
        "id": "k8ooogoW7IDK"
      },
      "source": [
        "plt.figure(figsize=(10,8))\n",
        "plt.plot(train_loss, label='Train loss')\n",
        "plt.plot(valid_loss, label='Valid loss')\n",
        "plt.legend()"
      ],
      "execution_count": null,
      "outputs": []
    },
    {
      "cell_type": "markdown",
      "metadata": {
        "id": "w6jZBMBqnr8r"
      },
      "source": [
        "# Conclusion\n",
        "Forming the necassary code for training the smokesegnet was successful. Unfortunately, the training was too slow on google colab. The training was cut early adn code transferred to Sagemaker for training."
      ]
    },
    {
      "cell_type": "code",
      "metadata": {
        "id": "Z2heOK5Rn6qY"
      },
      "source": [
        ""
      ],
      "execution_count": null,
      "outputs": []
    }
  ]
}