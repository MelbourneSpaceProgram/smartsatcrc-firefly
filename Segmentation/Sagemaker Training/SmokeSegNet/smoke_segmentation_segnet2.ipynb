{
 "cells": [
  {
   "cell_type": "markdown",
   "metadata": {},
   "source": [
    "# Smoke SegNet \n",
    "* This notebooks marks the first attempt at training the segnet2 on the newly developed smoke segmetation training set\n",
    "* The training set was developed to mimic the form of the cloud segmentation data that has demonstrated successful integration with the training scripts and model archetecture\n",
    "* The main task is to create the training script so that it works with the new dataset"
   ]
  },
  {
   "cell_type": "code",
   "execution_count": 20,
   "metadata": {},
   "outputs": [],
   "source": [
    "############## Imports ################\n",
    "\n",
    "import sagemaker\n",
    "from sagemaker.pytorch import PyTorch\n",
    "\n",
    "sagemaker_session = sagemaker.Session() #use for remote session\n",
    "\n",
    "bucket = sagemaker_session.default_bucket()\n",
    "\n",
    "role = sagemaker.get_execution_role()"
   ]
  },
  {
   "cell_type": "code",
   "execution_count": 21,
   "metadata": {},
   "outputs": [],
   "source": [
    "############# Path Set Up #################\n",
    "\n",
    "# speciy location of training data\n",
    "train_data = 's3://sagemaker-firefly-model-data/SmokeSegDataset/training'\n",
    "\n",
    "# specifiy location for model output to be saved\n",
    "s3_output_location = 's3://sagemaker-firefly-model-artifacts'\n"
   ]
  },
  {
   "cell_type": "code",
   "execution_count": 22,
   "metadata": {},
   "outputs": [],
   "source": [
    "############# Create estimator object with hyperparamters #################\n",
    "\n",
    "epochs = 5 # \n",
    "learning_rate = 1.52E-03 # suggested learning rate from learning rate finder tool\n",
    "batch_size = 4\n",
    "\n",
    "estimator = PyTorch(entry_point='SmokeSegNet/smoke_segmentation_segnet2_training_script.py',\n",
    "                    role=role,\n",
    "                    framework_version='1.4.0',\n",
    "                    train_instance_count=2,\n",
    "                    train_instance_type='ml.p3.2xlarge',\n",
    "                    output_path=s3_output_location,\n",
    "                    sagemaker_session=sagemaker_session,\n",
    "                    hyperparameters={\n",
    "                        'epochs': epochs,\n",
    "                        'learning_rate': learning_rate,\n",
    "                        'backend': 'gloo',\n",
    "                        'batch_size': batch_size\n",
    "                    }\n",
    "                   )\n"
   ]
  },
  {
   "cell_type": "code",
   "execution_count": 23,
   "metadata": {},
   "outputs": [
    {
     "name": "stderr",
     "output_type": "stream",
     "text": [
      "'create_image_uri' will be deprecated in favor of 'ImageURIProvider' class in SageMaker Python SDK v2.\n",
      "'s3_input' class will be renamed to 'TrainingInput' in SageMaker Python SDK v2.\n",
      "'create_image_uri' will be deprecated in favor of 'ImageURIProvider' class in SageMaker Python SDK v2.\n"
     ]
    }
   ],
   "source": [
    "############## Run the training ################\n",
    "\n",
    "estimator.fit({'train': train_data}, wait=False, logs='All') \n"
   ]
  },
  {
   "cell_type": "code",
   "execution_count": null,
   "metadata": {},
   "outputs": [],
   "source": []
  },
  {
   "cell_type": "code",
   "execution_count": null,
   "metadata": {},
   "outputs": [],
   "source": []
  }
 ],
 "metadata": {
  "kernelspec": {
   "display_name": "conda_pytorch_p36",
   "language": "python",
   "name": "conda_pytorch_p36"
  },
  "language_info": {
   "codemirror_mode": {
    "name": "ipython",
    "version": 3
   },
   "file_extension": ".py",
   "mimetype": "text/x-python",
   "name": "python",
   "nbconvert_exporter": "python",
   "pygments_lexer": "ipython3",
   "version": "3.6.10"
  }
 },
 "nbformat": 4,
 "nbformat_minor": 4
}
