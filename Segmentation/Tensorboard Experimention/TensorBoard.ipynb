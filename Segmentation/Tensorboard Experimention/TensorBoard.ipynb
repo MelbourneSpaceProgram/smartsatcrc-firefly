{
 "cells": [
  {
   "cell_type": "markdown",
   "metadata": {},
   "source": [
    "# TensorBoard Experiemtnation\n",
    "* Using Tensorboard for analystics was suggested to the group\n",
    "* A SegNet 2 training run was documented and here the log files are being viewed\n",
    "\n",
    "## Issue\n",
    "* the connection to the tensorboard host was not working\n",
    "* the logs were downloaded to local computer and viewed on google colab\n",
    "\n",
    "## Results\n",
    "* the logs were very detailed, with data points for every 100 steps from a total in the order of 10k\n",
    "* the tensorboard also graphically displayed SegNet 2 as a graph, illustrating the shear size of its interacting encoder and decoder"
   ]
  },
  {
   "cell_type": "code",
   "execution_count": 1,
   "metadata": {},
   "outputs": [],
   "source": [
    "#################### Imports #########################\n",
    "from __future__ import print_function, division\n",
    "import torch\n",
    "import torchvision\n",
    "import torchvision.transforms as transforms\n",
    "import torch.optim as optim\n",
    "import torchvision.models as models\n",
    "import torch.nn as nn\n",
    "from torch.optim import lr_scheduler\n",
    "import torch.nn.functional as F\n",
    "from collections import OrderedDict\n",
    "import time\n",
    "import numpy as np\n",
    "from torch.autograd import Variable\n",
    "from pathlib import Path\n",
    "from PIL import Image\n",
    "# imports copied for loading in data\n",
    "import os\n",
    "import pandas as pd\n",
    "#from skimage import io, transform\n",
    "import matplotlib.pyplot as plt\n",
    "from torch.utils.data import Dataset, DataLoader\n",
    "from torchvision import transforms, utils\n",
    "# Ignore warnings\n",
    "import warnings\n",
    "warnings.filterwarnings(\"ignore\")\n",
    "plt.ion()   # interactive mode\n",
    "multiGPU = False\n",
    "\n",
    "##### Tensor board requirements\n",
    "import sys\n",
    "import torch.nn.functional as F\n",
    "from torch.utils.tensorboard import SummaryWriter"
   ]
  },
  {
   "cell_type": "code",
   "execution_count": 7,
   "metadata": {},
   "outputs": [
    {
     "name": "stdout",
     "output_type": "stream",
     "text": [
      "The tensorboard extension is already loaded. To reload it, use:\n",
      "  %reload_ext tensorboard\n"
     ]
    },
    {
     "data": {
      "text/html": [
       "\n",
       "      <iframe id=\"tensorboard-frame-5ba82f5a790e47c1\" width=\"100%\" height=\"800\" frameborder=\"0\">\n",
       "      </iframe>\n",
       "      <script>\n",
       "        (function() {\n",
       "          const frame = document.getElementById(\"tensorboard-frame-5ba82f5a790e47c1\");\n",
       "          const url = new URL(\"/\", window.location);\n",
       "          const port = 6008;\n",
       "          if (port) {\n",
       "            url.port = port;\n",
       "          }\n",
       "          frame.src = url;\n",
       "        })();\n",
       "      </script>\n",
       "    "
      ],
      "text/plain": [
       "<IPython.core.display.HTML object>"
      ]
     },
     "metadata": {},
     "output_type": "display_data"
    }
   ],
   "source": [
    "######### Initialise the tensorboard to view the log data\n",
    "%load_ext tensorboard\n",
    "%tensorboard --logdir 'runs/SegNet2/Training Without Scheduler Attempt 1' \n"
   ]
  },
  {
   "cell_type": "code",
   "execution_count": null,
   "metadata": {},
   "outputs": [],
   "source": []
  }
 ],
 "metadata": {
  "environment": {
   "name": "pytorch-gpu.1-4.m55",
   "type": "gcloud",
   "uri": "gcr.io/deeplearning-platform-release/pytorch-gpu.1-4:m55"
  },
  "kernelspec": {
   "display_name": "pytorch",
   "language": "python",
   "name": "pytorch"
  },
  "language_info": {
   "codemirror_mode": {
    "name": "ipython",
    "version": 3
   },
   "file_extension": ".py",
   "mimetype": "text/x-python",
   "name": "python",
   "nbconvert_exporter": "python",
   "pygments_lexer": "ipython3",
   "version": "3.8.5"
  }
 },
 "nbformat": 4,
 "nbformat_minor": 4
}
